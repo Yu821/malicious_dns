{
 "cells": [
  {
   "cell_type": "markdown",
   "metadata": {},
   "source": [
    "# Strategy #"
   ]
  },
  {
   "cell_type": "markdown",
   "metadata": {},
   "source": [
    "Workflow for EDA and Feature Engineering:\n",
    "\n",
    "Obtain domain knowledge <br>\n",
    "↓ <br>\n",
    "Make assumption <br>\n",
    "↓ <br>\n",
    "Test it (EDA) <br>\n",
    "↓ <br>\n",
    "Feature Engeneering <br>\n",
    " <br>\n",
    "\n",
    "\n",
    "My strategy for reducing memory was: <br>\n",
    "1. Change data type to the data type that uses small amount of memory Ex: int64 → int 32\n",
    "This led to 28.6% reduction of memory in this data.\n",
    "2. Delete used dataframe quickly  Ex: del df; gc.collect()\n",
    "\n",
    "Time to load data: <br>\n",
    "Data is large which means it takes time to load each time.\n",
    "I used feather file instead of csv file to speed up the process.\n",
    "\n",
    "This reduced loading time of 28.265625 seconds to 11.75 seconds. This is more than two times faster than loading data with csv file.\n",
    " <br>\n",
    " <br>\n",
    "Model: <br>\n",
    "Given <br>\n",
    "1. Lack of samples for some attack id.\n",
    "2. Lots of data.\n",
    "3. Tabular data\n",
    "4. Targets are not uniformly distributed.\n",
    "\n",
    "I used LightGBM with stratified K-Fold (K=5).\n",
    "\n",
    "Domain knowledge:  <br>\n",
    "I mainly obtained domain knowledge from this website. \n",
    "https://securitytrails.com/blog/most-popular-types-dns-attacks\n",
    " <br>\n",
    "\n",
    "Environment: <br>\n",
    "Used CPU: Core i7\n",
    "\n",
    " <br>\n",
    "Description of attacks from the perspective of data analysis alone: <br>\n",
    "\n",
    "Attackid and Description: <br>\n",
    "1 = This attack uses not many packets with medium sized data <br>\n",
    "2 = This attack uses many packets with various sized data <br>\n",
    "3 = This attack uses many packets with small sized data <br>\n",
    "4 = This attack uses a few packets with medium sized data <br>\n",
    "5 = This attack uses many packets with small sized data <br>\n"
   ]
  },
  {
   "cell_type": "code",
   "execution_count": 2,
   "metadata": {},
   "outputs": [],
   "source": [
    "import pandas as pd\n",
    "import numpy as np\n",
    "import seaborn as sns\n",
    "from matplotlib import pyplot as plt \n",
    "\n",
    "import feather\n",
    "import sys\n",
    "import warnings\n",
    "warnings.filterwarnings(\"ignore\")\n",
    "\n",
    "import gc\n"
   ]
  },
  {
   "cell_type": "markdown",
   "metadata": {},
   "source": [
    "## Code for reducing memory and making feather files ##"
   ]
  },
  {
   "cell_type": "code",
   "execution_count": 3,
   "metadata": {},
   "outputs": [],
   "source": [
    "# Reference: https://www.kaggle.com/arjanso/reducing-dataframe-memory-size-by-65\n",
    "\n",
    "# def reduce_mem_usage(df, verbose=True):\n",
    "#     numerics = [\"int16\", \"int32\", \"int64\", \"float16\", \"float32\", \"float64\"]\n",
    "#     start_mem = df.memory_usage().sum() / 1024 ** 2\n",
    "#     for col in df.columns:\n",
    "#         col_type = df[col].dtypes\n",
    "#         if col_type in numerics:\n",
    "#             c_min = df[col].min()\n",
    "#             c_max = df[col].max()\n",
    "#             if str(col_type)[:3] == \"int\":\n",
    "#                 if c_min > np.iinfo(np.int8).min and c_max < np.iinfo(np.int8).max:\n",
    "#                     df[col] = df[col].astype(np.int8)\n",
    "#                 elif c_min > np.iinfo(np.int16).min and c_max < np.iinfo(np.int16).max:\n",
    "#                     df[col] = df[col].astype(np.int16)\n",
    "#                 elif c_min > np.iinfo(np.int32).min and c_max < np.iinfo(np.int32).max:\n",
    "#                     df[col] = df[col].astype(np.int32)\n",
    "#                 elif c_min > np.iinfo(np.int64).min and c_max < np.iinfo(np.int64).max:\n",
    "#                     df[col] = df[col].astype(np.int64)\n",
    "#             else:\n",
    "#                 if (\n",
    "#                     c_min > np.finfo(np.float16).min\n",
    "#                     and c_max < np.finfo(np.float16).max\n",
    "#                 ):\n",
    "#                     df[col] = df[col].astype(np.float16)\n",
    "#                 elif (\n",
    "#                     c_min > np.finfo(np.float32).min\n",
    "#                     and c_max < np.finfo(np.float32).max\n",
    "#                 ):\n",
    "#                     df[col] = df[col].astype(np.float32)\n",
    "#                 else:\n",
    "#                     df[col] = df[col].astype(np.float64)\n",
    "#     end_mem = df.memory_usage().sum() / 1024 ** 2\n",
    "#     if verbose:\n",
    "#         print(\n",
    "#             \"Mem. usage decreased to {:5.2f} Mb ({:.1f}% reduction)\".format(\n",
    "#                 end_mem, 100 * (start_mem - end_mem) / start_mem\n",
    "#             )\n",
    "#         )\n",
    "#     return df\n",
    "\n",
    "\n",
    "# q1 = pd.read_csv('./q1_total.csv',encoding=\"ISO-8859-1\")\n",
    "# reduce_mem_usage(q1)\n",
    "# feather.write_dataframe(q1, './q1_total.feather')\n"
   ]
  },
  {
   "cell_type": "code",
   "execution_count": 4,
   "metadata": {},
   "outputs": [],
   "source": [
    "q1 = feather.read_dataframe('./total_q1.feather')\n",
    "\n",
    "q1.rename(columns={'No.':'id','Time':'time','Source':'source','Destination':'destination',\n",
    "                   'Protocol':'protocol','Length':'length','Info':'info'},inplace=True)\n",
    "\n",
    "q1.drop('packetid',axis=1,inplace=True)\n",
    "\n",
    "\n",
    "res = q1[q1['info'].str.contains('response')]\n",
    "sub = q1[~q1['info'].str.contains('response')]\n",
    "\n",
    "\n",
    "train = sub[~sub['attackid'].isnull()]\n",
    "test = sub[sub['attackid'].isnull()]"
   ]
  },
  {
   "cell_type": "markdown",
   "metadata": {},
   "source": [
    "# EDA and Feature Engineering #"
   ]
  },
  {
   "cell_type": "markdown",
   "metadata": {},
   "source": [
    "## Missing Values ##"
   ]
  },
  {
   "cell_type": "markdown",
   "metadata": {},
   "source": [
    "First, check missing values."
   ]
  },
  {
   "cell_type": "code",
   "execution_count": 5,
   "metadata": {},
   "outputs": [
    {
     "name": "stdout",
     "output_type": "stream",
     "text": [
      "Missing data for training data: \n",
      "              Total  Percent\n",
      "attackid         0      0.0\n",
      "info             0      0.0\n",
      "length           0      0.0\n",
      "protocol         0      0.0\n",
      "destination      0      0.0\n",
      "source           0      0.0\n",
      "time             0      0.0\n",
      "id               0      0.0\n",
      "\n",
      "Missing data for test data: \n",
      "               Total  Percent\n",
      "info             0      0.0\n",
      "length           0      0.0\n",
      "protocol         0      0.0\n",
      "destination      0      0.0\n",
      "source           0      0.0\n",
      "time             0      0.0\n",
      "id               0      0.0\n"
     ]
    }
   ],
   "source": [
    "total = train.isnull().sum().sort_values(ascending=False)\n",
    "percent = (train.isnull().sum()/train.isnull().count()).sort_values(ascending=False)\n",
    "missing_data = pd.concat([total, percent], axis=1, keys=['Total', 'Percent'])\n",
    "\n",
    "print('Missing data for training data: \\n',missing_data)\n",
    "print()\n",
    "\n",
    "total = test.drop('attackid',axis=1).isnull().sum().sort_values(ascending=False)\n",
    "percent = (test.drop('attackid',axis=1).isnull().sum()/test.drop('attackid',axis=1).isnull().count()).sort_values(ascending=False)\n",
    "missing_data = pd.concat([total, percent], axis=1, keys=['Total', 'Percent'])\n",
    "\n",
    "print('Missing data for test data: \\n ',missing_data)\n"
   ]
  },
  {
   "cell_type": "markdown",
   "metadata": {},
   "source": [
    "There aren't any missing values."
   ]
  },
  {
   "cell_type": "markdown",
   "metadata": {},
   "source": [
    "## Number of different attacks for each ip address (destination) ##"
   ]
  },
  {
   "cell_type": "markdown",
   "metadata": {},
   "source": [
    "Domain knowledge:  <br> It is less likely that the attackers will use two types of attacks with same ip address. <br>\n",
    "Assumption:  <br> Same ip address always uses same attack. "
   ]
  },
  {
   "cell_type": "code",
   "execution_count": 6,
   "metadata": {},
   "outputs": [
    {
     "data": {
      "image/png": "[encoded data removed]",
      "text/plain": [
       "<Figure size 432x288 with 1 Axes>"
      ]
     },
     "metadata": {
      "needs_background": "light"
     },
     "output_type": "display_data"
    },
    {
     "data": {
      "text/plain": [
       "4909"
      ]
     },
     "execution_count": 6,
     "metadata": {},
     "output_type": "execute_result"
    }
   ],
   "source": [
    "dest = sub.dropna().groupby(['destination','attackid'],as_index=False)['id'].count()\n",
    "sns.distplot(dest.groupby(['destination'],as_index=False)['attackid'].count()['attackid'].values,kde=False)\n",
    "\n",
    "plt.title('Number of different attacks for each ip address (destination)')\n",
    "\n",
    "plt.xlabel(\"Count of different attacks\")\n",
    "plt.ylabel(\"Frequency\")\n",
    "\n",
    "plt.savefig('./figure/count_dif_attacks')\n",
    "plt.show()\n",
    "\n",
    "del dest; gc.collect()"
   ]
  },
  {
   "cell_type": "markdown",
   "metadata": {},
   "source": [
    "Result: <br> True. Each IP address uses only one type of attack. This means that if we alrady know attackid for one destination, other same destinations will have same types of attack."
   ]
  },
  {
   "cell_type": "markdown",
   "metadata": {},
   "source": [
    "## Number of different attacks for each ip address (source) ##"
   ]
  },
  {
   "cell_type": "code",
   "execution_count": 7,
   "metadata": {},
   "outputs": [
    {
     "data": {
      "image/png": "[encoded data removed]",
      "text/plain": [
       "<Figure size 432x288 with 1 Axes>"
      ]
     },
     "metadata": {
      "needs_background": "light"
     },
     "output_type": "display_data"
    },
    {
     "data": {
      "text/plain": [
       "2145"
      ]
     },
     "execution_count": 7,
     "metadata": {},
     "output_type": "execute_result"
    }
   ],
   "source": [
    "source = sub.dropna().groupby(['source','attackid'],as_index=False)['id'].count()\n",
    "sns.distplot(source.groupby(['source'],as_index=False)['attackid'].count()['attackid'].values,kde=False)\n",
    "\n",
    "plt.xlabel(\"Count\")\n",
    "plt.ylabel(\"Frequency\")\n",
    "\n",
    "plt.title('Number of different attacks for each ip address (source)')\n",
    "\n",
    "plt.xlabel(\"Count\")\n",
    "plt.ylabel(\"Frequency\")\n",
    "\n",
    "plt.show()\n",
    "\n",
    "del source; gc.collect()"
   ]
  },
  {
   "cell_type": "markdown",
   "metadata": {},
   "source": [
    "# Target Distribution #"
   ]
  },
  {
   "cell_type": "code",
   "execution_count": 8,
   "metadata": {},
   "outputs": [
    {
     "data": {
      "image/png": "[encoded data removed]",
      "text/plain": [
       "<Figure size 432x288 with 1 Axes>"
      ]
     },
     "metadata": {
      "needs_background": "light"
     },
     "output_type": "display_data"
    }
   ],
   "source": [
    "ax = sns.countplot(x=\"attackid\", data=sub)\n",
    "\n",
    "plt.savefig('./figure/target_distribution')"
   ]
  },
  {
   "cell_type": "markdown",
   "metadata": {},
   "source": [
    "Result: Target is not uniformally distributed. I need to stratify targets when I apply cross validation."
   ]
  },
  {
   "cell_type": "markdown",
   "metadata": {},
   "source": [
    "## Pdf of length by target in submittion ##"
   ]
  },
  {
   "cell_type": "markdown",
   "metadata": {},
   "source": [
    "Domain knowledge: Some attacks such as DoS attack sends many packets to shut down the website. Therefore, they just use small amount of data while other types of attack use relatively larger size of data. <br>\n",
    " <br>\n",
    "Assumption:  Types of attack depends on size of packets transferred."
   ]
  },
  {
   "cell_type": "code",
   "execution_count": 9,
   "metadata": {
    "scrolled": true
   },
   "outputs": [
    {
     "data": {
      "image/png": "[encoded data removed]",
      "text/plain": [
       "<Figure size 720x720 with 1 Axes>"
      ]
     },
     "metadata": {
      "needs_background": "light"
     },
     "output_type": "display_data"
    }
   ],
   "source": [
    "numerical = ['length']\n",
    "\n",
    "attackids = [1,2,3,4,5]\n",
    "\n",
    "for feature in numerical:\n",
    "\tfig, ax = plt.subplots(figsize=(10,10))\n",
    "\tplt.title(feature)\n",
    "\t\n",
    "\tfor i in attackids:\n",
    "\t\tax = sns.distplot(sub[sub['attackid']==i][feature],label='target=' + str(i))\n",
    "\n",
    "\tplt.legend() # Plot label in the graph\n",
    "\tplt.ylim(0,2.5)\n",
    "\tplt.savefig('./figure/size_packets.png')\n",
    "\tplt.show()\n"
   ]
  },
  {
   "cell_type": "markdown",
   "metadata": {},
   "source": [
    "Result: True <br>\n",
    "Attack id = 5 have many same small sized packets. <br>\n",
    "Other attack ids also packets that have different size. <br>\n",
    " <br>\n",
    "Thus, length of packet is strong predictor. <br>"
   ]
  },
  {
   "cell_type": "markdown",
   "metadata": {},
   "source": [
    "## Count of packets"
   ]
  },
  {
   "cell_type": "markdown",
   "metadata": {},
   "source": [
    "Domain knowledge: Some attacks such as DoS attack sends many packets to shut down the website. <br>\n",
    " <br>\n",
    "Assumption:  Types of attack depends on count of packets transferred."
   ]
  },
  {
   "cell_type": "code",
   "execution_count": 10,
   "metadata": {},
   "outputs": [
    {
     "data": {
      "image/png": "[encoded data removed]",
      "text/plain": [
       "<Figure size 720x720 with 1 Axes>"
      ]
     },
     "metadata": {
      "needs_background": "light"
     },
     "output_type": "display_data"
    },
    {
     "data": {
      "image/png": "[encoded data removed]",
      "text/plain": [
       "<Figure size 720x720 with 1 Axes>"
      ]
     },
     "metadata": {
      "needs_background": "light"
     },
     "output_type": "display_data"
    }
   ],
   "source": [
    "numerical = ['destination','source']\n",
    "\n",
    "attackids = [1,2,3,4,5]\n",
    "\n",
    "label_cols = ['source', 'destination']\n",
    "\n",
    "# Label Encoding\n",
    "from sklearn.preprocessing import LabelEncoder\n",
    "\n",
    "for col in label_cols:\n",
    "    if col in train.columns:\n",
    "        le = LabelEncoder()\n",
    "        le.fit(list(train[col].astype(str).values))\n",
    "        train[col] = le.transform(list(train[col].astype(str).values))\n",
    "\n",
    "for feature in numerical:\n",
    "\tfig, ax = plt.subplots(figsize=(10,10))\n",
    "\tplt.title(feature)\n",
    "\t\n",
    "\tfor i in attackids:\n",
    "\t\tax = sns.distplot(train[train['attackid']==i][feature],label='target=' + str(i),kde=False)\n",
    "\n",
    "\tif feature == 'destination':\n",
    "\t\tplt.title('Frequency of destination ip address')\n",
    "\t\tplt.xlabel(\"Destination ip address (encoded as numerical variable)\")\n",
    "\t\tplt.ylabel(\"Frequency\")\n",
    "# \t\tplt.ylim(0,5000)\n",
    "\telse:\n",
    "\t\tplt.title('Frequency of source ip address')\n",
    "\t\tplt.xlabel(\"Source ip address (encoded as numerical variable)\")\n",
    "\t\tplt.ylabel(\"Frequency\")\n",
    "\t\tplt.ylim(0,18000)\n",
    "\n",
    "\tplt.legend() # Plot label in the graph\n",
    "\tplt.savefig('./figure/'+ str(feature) + '.png')\n",
    "\tplt.show()"
   ]
  },
  {
   "cell_type": "markdown",
   "metadata": {},
   "source": [
    "Result: attackid = 5 and 2 use lots of packets. There is the clear trend for the number of packets sent for some types of attack."
   ]
  },
  {
   "cell_type": "markdown",
   "metadata": {},
   "source": [
    "## Email ##"
   ]
  },
  {
   "cell_type": "markdown",
   "metadata": {},
   "source": [
    "Domain knowledge: Some attacks such as cache poisoning redirects to malicious website. <br>\n",
    " <br>\n",
    "Assumption:  Types of attack depends on email."
   ]
  },
  {
   "cell_type": "code",
   "execution_count": 11,
   "metadata": {},
   "outputs": [
    {
     "name": "stdout",
     "output_type": "stream",
     "text": [
      "        info_4  info_1\n",
      "0  0798.com.cn       2\n",
      "1   0f3.com.cn       1\n",
      "2  10d5.com.cn       2\n",
      "3  1988.com.cn       2\n",
      "4  1c8c.com.cn       1\n"
     ]
    }
   ],
   "source": [
    "temp = sub['info'].str.split(expand=True)\n",
    "temp.columns = ['info_' + str(i) for i in temp.columns.values]\n",
    "\n",
    "temp = temp[:1000]\n",
    "\n",
    "with pd.option_context('display.max_rows', None, 'display.max_columns', None):\n",
    "#     I just display first 5 rows of data for submission\n",
    "    print(temp.groupby('info_4',as_index=False)['info_1'].count().head(5))\n"
   ]
  },
  {
   "cell_type": "markdown",
   "metadata": {},
   "source": [
    "Result: Email domain was all .com.cn. Also, ip addresses have information of emails. Therefore, email is not strong predictor of classifying attack id.\n",
    "\n",
    "I only display 5 rows for submission, but the results showed all emails have .com.cn"
   ]
  },
  {
   "cell_type": "markdown",
   "metadata": {},
   "source": [
    "## Common source or destination ip addresses between train and test data ##"
   ]
  },
  {
   "cell_type": "markdown",
   "metadata": {},
   "source": [
    "Assumption: There are common source ip address or destination ip address between train and test data."
   ]
  },
  {
   "cell_type": "code",
   "execution_count": 12,
   "metadata": {},
   "outputs": [
    {
     "name": "stdout",
     "output_type": "stream",
     "text": [
      "0.0 %\n"
     ]
    }
   ],
   "source": [
    "num = train[train['destination'].isin(test['destination'].values) | train['source'].isin(test['source'].values)].shape[0]\n",
    "\n",
    "print(num/train.shape[0]*100,'%')"
   ]
  },
  {
   "cell_type": "markdown",
   "metadata": {},
   "source": [
    "Training data covers 52% of destination or source ip address in test. This means that we could perfectly predict 52% of attack id in test because we know that same ip address is highly likely to have same type of attack id."
   ]
  },
  {
   "cell_type": "markdown",
   "metadata": {},
   "source": [
    "# Modeling #"
   ]
  },
  {
   "cell_type": "markdown",
   "metadata": {},
   "source": [
    "## LightGBM ##"
   ]
  },
  {
   "cell_type": "markdown",
   "metadata": {},
   "source": [
    "We will use LightGBM over other machine learning models for the following three reasons.\n",
    "1. Lack of samples for some attack id.\n",
    "2. Fast even though we have large amount of data.\n",
    "3. Gradient boosting models have almost always have the highest accuracy over other models such as SVM and simple decision tree model on tabular data.\n",
    "\n",
    "We will use stratified K-Fold because the target is not uniformally distributed. Also, we will let categorical variables as simple numerical variables because number of unique values are large and decision tree models can take care of numerical variables well. "
   ]
  },
  {
   "cell_type": "code",
   "execution_count": 13,
   "metadata": {
    "scrolled": true
   },
   "outputs": [
    {
     "name": "stdout",
     "output_type": "stream",
     "text": [
      "train_X:  (77803, 5)\n",
      "train_y:  (77803,)\n",
      "\n",
      " fold 0\n",
      "train_idx:  62241\n",
      "val_idx:  15562\n",
      "\n",
      " ip address Overlap 65.72677174209926 % \n",
      "\n",
      "Training until validation scores don't improve for 500 rounds.\n",
      "Early stopping, best iteration is:\n",
      "[180]\ttraining's multi_logloss: 2.79093e-08\tvalid_1's multi_logloss: 3.49986e-08\n",
      "\n",
      " fold 1\n",
      "train_idx:  62241\n",
      "val_idx:  15562\n",
      "\n",
      " ip address Overlap 91.78355103549107 % \n",
      "\n",
      "Training until validation scores don't improve for 500 rounds.\n",
      "Early stopping, best iteration is:\n",
      "[249]\ttraining's multi_logloss: 2.91695e-08\tvalid_1's multi_logloss: 2.9278e-08\n",
      "\n",
      " fold 2\n",
      "train_idx:  62243\n",
      "val_idx:  15560\n",
      "\n",
      " ip address Overlap 91.78381504747522 % \n",
      "\n",
      "Training until validation scores don't improve for 500 rounds.\n",
      "[1000]\ttraining's multi_logloss: 2.52175e-08\tvalid_1's multi_logloss: 0.00453654\n",
      "[2000]\ttraining's multi_logloss: 2.51585e-08\tvalid_1's multi_logloss: 0.00453654\n",
      "[3000]\ttraining's multi_logloss: 2.51292e-08\tvalid_1's multi_logloss: 0.00453654\n",
      "[4000]\ttraining's multi_logloss: 2.51118e-08\tvalid_1's multi_logloss: 0.00453654\n",
      "[5000]\ttraining's multi_logloss: 2.51002e-08\tvalid_1's multi_logloss: 0.00453654\n",
      "Did not meet early stopping. Best iteration is:\n",
      "[5000]\ttraining's multi_logloss: 2.51002e-08\tvalid_1's multi_logloss: 0.00453654\n",
      "\n",
      " fold 3\n",
      "train_idx:  62243\n",
      "val_idx:  15560\n",
      "\n",
      " ip address Overlap 98.45123146377905 % \n",
      "\n",
      "Training until validation scores don't improve for 500 rounds.\n",
      "[1000]\ttraining's multi_logloss: 2.55475e-08\tvalid_1's multi_logloss: 2.36232e-08\n",
      "Early stopping, best iteration is:\n",
      "[1053]\ttraining's multi_logloss: 2.55475e-08\tvalid_1's multi_logloss: 2.36232e-08\n",
      "\n",
      " fold 4\n",
      "train_idx:  62244\n",
      "val_idx:  15559\n",
      "\n",
      " ip address Overlap 80.93310198573357 % \n",
      "\n",
      "Training until validation scores don't improve for 500 rounds.\n",
      "[1000]\ttraining's multi_logloss: 2.58998e-08\tvalid_1's multi_logloss: 2.33835e-08\n",
      "[2000]\ttraining's multi_logloss: 2.55124e-08\tvalid_1's multi_logloss: 2.2377e-08\n",
      "[3000]\ttraining's multi_logloss: 2.54169e-08\tvalid_1's multi_logloss: 2.2151e-08\n",
      "[4000]\ttraining's multi_logloss: 2.53747e-08\tvalid_1's multi_logloss: 2.20547e-08\n",
      "[5000]\ttraining's multi_logloss: 2.53507e-08\tvalid_1's multi_logloss: 2.20106e-08\n",
      "Did not meet early stopping. Best iteration is:\n",
      "[5000]\ttraining's multi_logloss: 2.53507e-08\tvalid_1's multi_logloss: 2.20106e-08\n",
      "Mean log loss =  0.0009073293845512951\n",
      "\n",
      "Mean accuracy score = 0.999974294050358\n",
      "[5]\n",
      "['source' 'destination' 'length' 'count_source' 'count_destination']\n"
     ]
    },
    {
     "data": {
      "image/png": "[encoded data removed]",
      "text/plain": [
       "<Figure size 432x720 with 1 Axes>"
      ]
     },
     "metadata": {
      "needs_background": "light"
     },
     "output_type": "display_data"
    }
   ],
   "source": [
    "import lightgbm as lgb\n",
    "from scipy import stats\n",
    "from tqdm import tqdm_notebook\n",
    "from sklearn.model_selection import StratifiedKFold\n",
    "from statistics import mean\n",
    "from sklearn.preprocessing import LabelEncoder, OneHotEncoder\n",
    "\n",
    "from sklearn.metrics import accuracy_score, recall_score, precision_score, f1_score\n",
    "\n",
    "# Fix seeds\n",
    "from numpy.random import seed\n",
    "seed(0)\n",
    "\n",
    "np.set_printoptions(suppress=True)\n",
    "\n",
    "\n",
    "# Load data\n",
    "q1 = feather.read_dataframe('./total_q1.feather')\n",
    "\n",
    "q1.rename(columns={'No.':'id','Time':'time','Source':'source','Destination':'destination',\n",
    "                   'Protocol':'protocol','Length':'length','Info':'info'},inplace=True)\n",
    "\n",
    "q1 = q1[~q1['info'].str.contains('response')]\n",
    "\n",
    "\n",
    "train = q1[~q1['attackid'].isnull()]\n",
    "test = q1[q1['attackid'].isnull()]\n",
    "\n",
    "\n",
    "# Count encoding\n",
    "count_features = ['source','destination']\n",
    "\n",
    "for feature in count_features:\n",
    "\ttrain['count_' + feature] = train[feature].map(pd.concat([train[feature], test[feature]], ignore_index=True).value_counts(dropna=False))\n",
    "\ttest['count_' + feature] = test[feature].map(pd.concat([train[feature], test[feature]], ignore_index=True).value_counts(dropna=False))\n",
    "\n",
    "\n",
    "train.drop(['time','info','protocol'],axis=1,inplace=True)\n",
    "test.drop(['time','info','protocol'],axis=1,inplace=True)\n",
    "\n",
    "\n",
    "label_cols = ['source', 'destination']\n",
    "\n",
    "# Label Encoding\n",
    "from sklearn.preprocessing import LabelEncoder\n",
    "\n",
    "for col in label_cols:\n",
    "    if col in train.columns:\n",
    "        le = LabelEncoder()\n",
    "        le.fit(list(train[col].astype(str).values) + list(test[col].astype(str).values))\n",
    "        train[col] = le.transform(list(train[col].astype(str).values))\n",
    "        test[col] = le.transform(list(test[col].astype(str).values))\n",
    "\n",
    "        \n",
    "train_y = train['attackid']\n",
    "train_X = train.drop(['attackid','packetid','id'], axis=1)\n",
    "\n",
    "test_packetid = test['id']\n",
    "\n",
    "test_X = test.drop(['attackid','packetid','id'], axis=1)\n",
    "\n",
    "metric = 'multi_logloss'\n",
    "\n",
    "params = {\n",
    "\t\t  'objective': 'multiclass',\n",
    "\t\t  \"metric\": metric,\n",
    "\t\t }\n",
    "\n",
    "\n",
    "folds = StratifiedKFold(n_splits=5)\n",
    "\n",
    "# Out of fold predictions\n",
    "oof = np.zeros(shape=(len(train_X),5))\n",
    "\n",
    "# Predictions for test data\n",
    "predictions = np.zeros(shape=(len(test_X),5))\n",
    "feature_importance_df = pd.DataFrame()\n",
    "\n",
    "print('train_X: ',train_X.shape)\n",
    "print('train_y: ',train_y.shape)\n",
    "\n",
    "loss = list()\n",
    "\n",
    "#run model\n",
    "for fold_, (trn_idx, val_idx) in enumerate(folds.split(train_X,train_y)):\n",
    "\tstrLog = \"\\n fold {}\".format(fold_)\n",
    "\tprint(strLog)\n",
    "\n",
    "# \tOutput the size of train and validation index\n",
    "\tprint('train_idx: ',len(trn_idx))\n",
    "\tprint('val_idx: ',len(val_idx))\n",
    "\n",
    "\tX_tr, X_val = train_X.iloc[trn_idx], train_X.iloc[val_idx]\n",
    "\ty_tr, y_val = train_y.iloc[trn_idx], train_y.iloc[val_idx]\n",
    "\n",
    "\n",
    "\t# Check the percentage of ip address overlaps between training data and validation data\n",
    "\tnum = X_tr[X_tr['destination'].isin(X_val['destination'].values) | X_tr['source'].isin(X_val['source'].values)].shape[0]\n",
    "\tprint(\"\\n ip address Overlap\",num/X_tr.shape[0]*100,'% \\n')\n",
    "    \n",
    "\tmodel = lgb.LGBMClassifier(**params, n_estimators=5000, importance_type='gain', n_jobs=-1)\n",
    "\n",
    "\tmodel.fit(X_tr,\n",
    "\t\t\t  y_tr,\n",
    "\t\t\t  eval_set=[(X_tr,y_tr),(X_val, y_val)],\n",
    "\t\t\t  verbose=1000,\n",
    "\t\t\t  early_stopping_rounds=500)\n",
    "\n",
    "\t# Out of fold predictions\n",
    "\toof[val_idx] = model.predict_proba(X_val, num_iteration=model.best_iteration_)\n",
    "\n",
    "\t# Test prediction\n",
    "\tpredictions += (model.predict_proba(test_X, num_iteration=model.best_iteration_)) / folds.n_splits\n",
    "\n",
    "\tloss.append(model.best_score_['valid_1'][metric])\n",
    "\n",
    "\t#Feature importance\n",
    "\tfold_importance_df = pd.DataFrame()\n",
    "\tfold_importance_df[\"Feature\"] = train_X.columns.values\n",
    "\tfold_importance_df[\"importance\"] = model.feature_importances_[:len(train_X.columns.values)]\n",
    "\tfold_importance_df[\"fold\"] = fold_ + 1\n",
    "\tfeature_importance_df = pd.concat([feature_importance_df, fold_importance_df], axis=0)\n",
    "\n",
    "print('Mean log loss = ',mean(loss))\n",
    "\n",
    "oof = (np.argmax(oof,axis=1)+1).astype(int)\n",
    "\n",
    "print()\n",
    "print('Mean accuracy score = {}'.format(accuracy_score(train_y.values, oof)))\n",
    "\n",
    "\n",
    "print('[' + str(len(train_X.columns.values))+']')\n",
    "print(train_X.columns.values)\n",
    "\n",
    "cols = (feature_importance_df[[\"Feature\", \"importance\"]]\n",
    "        .groupby(\"Feature\")\n",
    "        .mean()\n",
    "        .sort_values(by=\"importance\", ascending=False).index)\n",
    "best_features = feature_importance_df.loc[feature_importance_df.Feature.isin(cols)]\n",
    "\n",
    "plt.figure(figsize=(6,10))\n",
    "sns.barplot(x=\"importance\", y=\"Feature\", data=best_features.sort_values(by=\"importance\",ascending=False))\n",
    "plt.title('Features importance (averaged/folds) ')\n",
    "plt.tight_layout()\n",
    "\n",
    "plt.savefig('./figure/importance.png')\n",
    "plt.show()\n",
    "\n",
    "\n",
    "# Make submission file\n",
    "test_X['attackid'] = (np.argmax(predictions,axis=1)+1).astype(int)\n",
    "test_X['packetid'] = test_packetid\n",
    "\n",
    "test_X[['packetid','attackid']].to_csv('./traffic.csv',header=True,index=False)\n",
    "\n"
   ]
  },
  {
   "cell_type": "markdown",
   "metadata": {},
   "source": [
    "Result:  <br>\n",
    "At the first fold, we could still predict types of attack with high accuracy even though we didn't know 34% of ip address of destination or source. This is because \"length\" variable is good predictor as hown in feature importance with \"gain\". Thus, our models could still predict test data well which training data doesn't have 48% of ip address of destination or source. "
   ]
  }
 ],
 "metadata": {
  "kernelspec": {
   "display_name": "Python 3",
   "language": "python",
   "name": "python3"
  },
  "language_info": {
   "codemirror_mode": {
    "name": "ipython",
    "version": 3
   },
   "file_extension": ".py",
   "mimetype": "text/x-python",
   "name": "python",
   "nbconvert_exporter": "python",
   "pygments_lexer": "ipython3",
   "version": "3.7.0"
  }
 },
 "nbformat": 4,
 "nbformat_minor": 2
}
