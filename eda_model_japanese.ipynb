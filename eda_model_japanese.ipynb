{
 "cells": [
  {
   "cell_type": "markdown",
   "metadata": {},
   "source": [
    "# データとタスク #"
   ]
  },
  {
   "cell_type": "markdown",
   "metadata": {},
   "source": [
    "データ：悪意のあるパケット群\n",
    "タスク：それらの攻撃手法を分類する。５種類の攻撃タイプ (attack id)があり、それらは数字にエンコードされている。\n",
    "特徴量：送信元と宛先IPアドレス、パケットサイズ、プロトコル、Eメール、その他のパケット情報"
   ]
  },
  {
   "cell_type": "markdown",
   "metadata": {},
   "source": [
    "# 戦略 #"
   ]
  },
  {
   "cell_type": "markdown",
   "metadata": {},
   "source": [
    "EDAと特徴量生成のワークフロー:\n",
    "\n",
    "ドメイン知識を得る <br>\n",
    "↓ <br>\n",
    "仮説を作る <br>\n",
    "↓ <br>\n",
    "検証する (EDA) <br>\n",
    "↓ <br>\n",
    "特徴量を生成する <br>\n",
    " <br>"
   ]
  },
  {
   "cell_type": "markdown",
   "metadata": {},
   "source": [
    "## ライブラリ読み込み ##"
   ]
  },
  {
   "cell_type": "code",
   "execution_count": 13,
   "metadata": {},
   "outputs": [],
   "source": [
    "import pandas as pd\n",
    "import numpy as np\n",
    "import seaborn as sns\n",
    "from matplotlib import pyplot as plt \n",
    "\n",
    "import feather\n",
    "import sys\n",
    "import warnings\n",
    "warnings.filterwarnings(\"ignore\")\n",
    "\n",
    "import gc\n"
   ]
  },
  {
   "cell_type": "markdown",
   "metadata": {},
   "source": [
    "## データタイプの置き換えとfeather fileへ変更することでメモリを削減 ##"
   ]
  },
  {
   "cell_type": "code",
   "execution_count": 14,
   "metadata": {},
   "outputs": [],
   "source": [
    "# Reference: https://www.kaggle.com/arjanso/reducing-dataframe-memory-size-by-65\n",
    "\n",
    "# def reduce_mem_usage(df, verbose=True):\n",
    "#     numerics = [\"int16\", \"int32\", \"int64\", \"float16\", \"float32\", \"float64\"]\n",
    "#     start_mem = df.memory_usage().sum() / 1024 ** 2\n",
    "#     for col in df.columns:\n",
    "#         col_type = df[col].dtypes\n",
    "#         if col_type in numerics:\n",
    "#             c_min = df[col].min()\n",
    "#             c_max = df[col].max()\n",
    "#             if str(col_type)[:3] == \"int\":\n",
    "#                 if c_min > np.iinfo(np.int8).min and c_max < np.iinfo(np.int8).max:\n",
    "#                     df[col] = df[col].astype(np.int8)\n",
    "#                 elif c_min > np.iinfo(np.int16).min and c_max < np.iinfo(np.int16).max:\n",
    "#                     df[col] = df[col].astype(np.int16)\n",
    "#                 elif c_min > np.iinfo(np.int32).min and c_max < np.iinfo(np.int32).max:\n",
    "#                     df[col] = df[col].astype(np.int32)\n",
    "#                 elif c_min > np.iinfo(np.int64).min and c_max < np.iinfo(np.int64).max:\n",
    "#                     df[col] = df[col].astype(np.int64)\n",
    "#             else:\n",
    "#                 if (\n",
    "#                     c_min > np.finfo(np.float16).min\n",
    "#                     and c_max < np.finfo(np.float16).max\n",
    "#                 ):\n",
    "#                     df[col] = df[col].astype(np.float16)\n",
    "#                 elif (\n",
    "#                     c_min > np.finfo(np.float32).min\n",
    "#                     and c_max < np.finfo(np.float32).max\n",
    "#                 ):\n",
    "#                     df[col] = df[col].astype(np.float32)\n",
    "#                 else:\n",
    "#                     df[col] = df[col].astype(np.float64)\n",
    "#     end_mem = df.memory_usage().sum() / 1024 ** 2\n",
    "#     if verbose:\n",
    "#         print(\n",
    "#             \"Mem. usage decreased to {:5.2f} Mb ({:.1f}% reduction)\".format(\n",
    "#                 end_mem, 100 * (start_mem - end_mem) / start_mem\n",
    "#             )\n",
    "#         )\n",
    "#     return df\n",
    "\n",
    "\n",
    "# q1 = pd.read_csv('./q1_total.csv',encoding=\"ISO-8859-1\")\n",
    "# reduce_mem_usage(q1)\n",
    "# feather.write_dataframe(q1, './q1_total.feather')\n"
   ]
  },
  {
   "cell_type": "markdown",
   "metadata": {},
   "source": [
    "# データ読み込み #"
   ]
  },
  {
   "cell_type": "code",
   "execution_count": 15,
   "metadata": {},
   "outputs": [
    {
     "name": "stdout",
     "output_type": "stream",
     "text": [
      "   id      time          source    destination protocol  length  \\\n",
      "0   1  0.000000   214.13.212.97    45.80.170.1      DNS      88   \n",
      "1   2  0.000255     45.80.170.1  214.13.212.97      DNS     432   \n",
      "2   3  0.001941   255.176.91.32    45.80.170.1      DNS      89   \n",
      "3   4  0.002090     45.80.170.1  255.176.91.32      DNS     396   \n",
      "4   5  0.011864  214.180.95.136    45.80.170.1      DNS      87   \n",
      "\n",
      "                                                info  attackid  \n",
      "0      Standard query 0x437f A www.94e207.com.cn OPT       NaN  \n",
      "1  Standard query response 0x437f A www.94e207.co...       NaN  \n",
      "2  Standard query 0x87a8 AAAA dns.32477b4.com.cn OPT       NaN  \n",
      "3  Standard query response 0x87a8 AAAA dns.32477b...       NaN  \n",
      "4    Standard query 0x1658 AAAA dns2.f0a1.com.cn OPT       NaN  \n"
     ]
    }
   ],
   "source": [
    "q1 = feather.read_dataframe('./total_q1.feather')\n",
    "\n",
    "q1.rename(columns={'No.':'id','Time':'time','Source':'source','Destination':'destination',\n",
    "                   'Protocol':'protocol','Length':'length','Info':'info'},inplace=True)\n",
    "\n",
    "q1.drop('packetid',axis=1,inplace=True)\n",
    "\n",
    "print(q1.head())\n",
    "\n",
    "res = q1[q1['info'].str.contains('response')]\n",
    "sub = q1[~q1['info'].str.contains('response')]\n",
    "\n",
    "\n",
    "train = sub[~sub['attackid'].isnull()]\n",
    "test = sub[sub['attackid'].isnull()]"
   ]
  },
  {
   "cell_type": "markdown",
   "metadata": {},
   "source": [
    "# EDAと特徴量生成 #"
   ]
  },
  {
   "cell_type": "markdown",
   "metadata": {},
   "source": [
    "## 欠損値 ##"
   ]
  },
  {
   "cell_type": "code",
   "execution_count": 16,
   "metadata": {},
   "outputs": [
    {
     "name": "stdout",
     "output_type": "stream",
     "text": [
      "Missing data for training data: \n",
      "              Total  Percent\n",
      "attackid         0      0.0\n",
      "info             0      0.0\n",
      "length           0      0.0\n",
      "protocol         0      0.0\n",
      "destination      0      0.0\n",
      "source           0      0.0\n",
      "time             0      0.0\n",
      "id               0      0.0\n",
      "\n",
      "Missing data for test data: \n",
      "               Total  Percent\n",
      "info             0      0.0\n",
      "length           0      0.0\n",
      "protocol         0      0.0\n",
      "destination      0      0.0\n",
      "source           0      0.0\n",
      "time             0      0.0\n",
      "id               0      0.0\n"
     ]
    }
   ],
   "source": [
    "total = train.isnull().sum().sort_values(ascending=False)\n",
    "percent = (train.isnull().sum()/train.isnull().count()).sort_values(ascending=False)\n",
    "missing_data = pd.concat([total, percent], axis=1, keys=['Total', 'Percent'])\n",
    "\n",
    "print('Missing data for training data: \\n',missing_data)\n",
    "print()\n",
    "\n",
    "total = test.drop('attackid',axis=1).isnull().sum().sort_values(ascending=False)\n",
    "percent = (test.drop('attackid',axis=1).isnull().sum()/test.drop('attackid',axis=1).isnull().count()).sort_values(ascending=False)\n",
    "missing_data = pd.concat([total, percent], axis=1, keys=['Total', 'Percent'])\n",
    "\n",
    "print('Missing data for test data: \\n ',missing_data)\n"
   ]
  },
  {
   "cell_type": "markdown",
   "metadata": {},
   "source": [
    "結果：欠損値なし"
   ]
  },
  {
   "cell_type": "markdown",
   "metadata": {},
   "source": [
    "## 一つの宛先ipアドレスの攻撃手法数 ##"
   ]
  },
  {
   "cell_type": "markdown",
   "metadata": {},
   "source": [
    "ドメイン知識:  <br> 攻撃者は同じipアドレスを使って２つの異なった攻撃手法を使わない <br>\n",
    "仮定:  <br> ipアドレスと攻撃手法が分かれば、同じipアドレスを持っている全ての他パケットの攻撃手法もわかる"
   ]
  },
  {
   "cell_type": "code",
   "execution_count": 17,
   "metadata": {},
   "outputs": [
    {
     "data": {
      "image/png": "[encoded data removed]",
      "text/plain": [
       "<Figure size 432x288 with 1 Axes>"
      ]
     },
     "metadata": {
      "needs_background": "light"
     },
     "output_type": "display_data"
    },
    {
     "data": {
      "text/plain": [
       "7591"
      ]
     },
     "execution_count": 17,
     "metadata": {},
     "output_type": "execute_result"
    }
   ],
   "source": [
    "dest = sub.dropna().groupby(['destination','attackid'],as_index=False)['id'].count()\n",
    "sns.distplot(dest.groupby(['destination'],as_index=False)['attackid'].count()['attackid'].values,kde=False)\n",
    "\n",
    "plt.title('Number of different attacks for each ip address (destination)')\n",
    "\n",
    "plt.xlabel(\"Count of different attacks\")\n",
    "plt.ylabel(\"Frequency\")\n",
    "\n",
    "plt.savefig('./figure/count_dif_attacks')\n",
    "plt.show()\n",
    "\n",
    "del dest; gc.collect()"
   ]
  },
  {
   "cell_type": "markdown",
   "metadata": {},
   "source": [
    "結果: <br> 真。 訓練データ内のそれぞれのipアドレスは一つの手法しか使っていない。よってテストデータでも一つのipアドレスから攻撃手法がわかれば、他の同じipアドレスを用いたパケットの攻撃手法もわかる確率が高い。"
   ]
  },
  {
   "cell_type": "markdown",
   "metadata": {},
   "source": [
    "## 一つの送信元ipアドレスの攻撃手法数 ##"
   ]
  },
  {
   "cell_type": "code",
   "execution_count": 18,
   "metadata": {},
   "outputs": [
    {
     "data": {
      "image/png": "[encoded data removed]",
      "text/plain": [
       "<Figure size 432x288 with 1 Axes>"
      ]
     },
     "metadata": {
      "needs_background": "light"
     },
     "output_type": "display_data"
    },
    {
     "data": {
      "text/plain": [
       "2148"
      ]
     },
     "execution_count": 18,
     "metadata": {},
     "output_type": "execute_result"
    }
   ],
   "source": [
    "source = sub.dropna().groupby(['source','attackid'],as_index=False)['id'].count()\n",
    "sns.distplot(source.groupby(['source'],as_index=False)['attackid'].count()['attackid'].values,kde=False)\n",
    "\n",
    "plt.xlabel(\"Count\")\n",
    "plt.ylabel(\"Frequency\")\n",
    "\n",
    "plt.title('Number of different attacks for each ip address (source)')\n",
    "\n",
    "plt.xlabel(\"Count\")\n",
    "plt.ylabel(\"Frequency\")\n",
    "\n",
    "plt.show()\n",
    "\n",
    "del source; gc.collect()"
   ]
  },
  {
   "cell_type": "markdown",
   "metadata": {},
   "source": [
    "## 訓練データとテストデータで共通の宛先IPアドレスまたは送信元IPアドレスの比率 ##"
   ]
  },
  {
   "cell_type": "markdown",
   "metadata": {},
   "source": [
    "仮説：訓練データとテストデータには共通のIPアドレスを持ったパケットが存在する"
   ]
  },
  {
   "cell_type": "code",
   "execution_count": 19,
   "metadata": {},
   "outputs": [
    {
     "name": "stdout",
     "output_type": "stream",
     "text": [
      "52.06997159492565 %\n"
     ]
    }
   ],
   "source": [
    "num = train[train['destination'].isin(test['destination'].values) | train['source'].isin(test['source'].values)].shape[0]\n",
    "\n",
    "print(num/train.shape[0]*100,'%')"
   ]
  },
  {
   "cell_type": "markdown",
   "metadata": {},
   "source": [
    "結果：訓練データはテストデータのIPアドレスの約半分をカバーしている。よって訓練データを使えば、テストデータ内のパケットの攻撃手法をほぼ確実に約50％分かる。"
   ]
  },
  {
   "cell_type": "markdown",
   "metadata": {},
   "source": [
    "結果は宛先ipアドレスと同様である。"
   ]
  },
  {
   "cell_type": "markdown",
   "metadata": {},
   "source": [
    "# 攻撃手法の分布 #"
   ]
  },
  {
   "cell_type": "code",
   "execution_count": 20,
   "metadata": {},
   "outputs": [
    {
     "data": {
      "image/png": "[encoded data removed]",
      "text/plain": [
       "<Figure size 432x288 with 1 Axes>"
      ]
     },
     "metadata": {
      "needs_background": "light"
     },
     "output_type": "display_data"
    }
   ],
   "source": [
    "ax = sns.countplot(x=\"attackid\", data=sub)\n",
    "\n",
    "plt.savefig('./figure/target_distribution')"
   ]
  },
  {
   "cell_type": "markdown",
   "metadata": {},
   "source": [
    "結果: 攻撃手法は一様分布ではない。よって交差検証の手法を気を付ける必要がある。"
   ]
  },
  {
   "cell_type": "markdown",
   "metadata": {},
   "source": [
    "## 送信パケットサイズの確率密度関数 ##"
   ]
  },
  {
   "cell_type": "markdown",
   "metadata": {},
   "source": [
    "ドメイン知識: DoS攻撃のような沢山のパケットを使ってサーバーをダウンさせる手法では、それを可能にするためパケットサイズを小さくする必要がある。 <br>\n",
    " <br>\n",
    "仮説:  攻撃手法はパケットサイズによる。"
   ]
  },
  {
   "cell_type": "code",
   "execution_count": 21,
   "metadata": {
    "scrolled": true
   },
   "outputs": [
    {
     "data": {
      "image/png": "[encoded data removed]",
      "text/plain": [
       "<Figure size 720x720 with 1 Axes>"
      ]
     },
     "metadata": {
      "needs_background": "light"
     },
     "output_type": "display_data"
    }
   ],
   "source": [
    "numerical = ['length']\n",
    "\n",
    "attackids = [1,2,3,4,5]\n",
    "\n",
    "for feature in numerical:\n",
    "\tfig, ax = plt.subplots(figsize=(10,10))\n",
    "\tplt.title(feature)\n",
    "\t\n",
    "\tfor i in attackids:\n",
    "\t\tax = sns.distplot(sub[sub['attackid']==i][feature],label='target=' + str(i))\n",
    "\n",
    "\tplt.legend() # Plot label in the graph\n",
    "\tplt.ylim(0,2.5)\n",
    "\tplt.savefig('./figure/size_packets.png')\n",
    "\tplt.show()\n"
   ]
  },
  {
   "cell_type": "markdown",
   "metadata": {},
   "source": [
    "結果は真。 <br>\n",
    "Attack id 5 は小さなパケットサイズを頻繁に使っているのに対し他のattackid（攻撃手法）のパケットサイズの範囲は比較的広い。また攻撃手法によって、パケットサイズのはっきりとした境界線が引かれているように見える。\n",
    " <br>"
   ]
  },
  {
   "cell_type": "markdown",
   "metadata": {},
   "source": [
    "## パケットの頻度 ##"
   ]
  },
  {
   "cell_type": "markdown",
   "metadata": {},
   "source": [
    "ドメイン知識: DoS 攻撃のような手法では多くのパケットを使う. <br>\n",
    " <br>\n",
    "仮説: 攻撃手法は送信されたパケット数による。"
   ]
  },
  {
   "cell_type": "code",
   "execution_count": 22,
   "metadata": {},
   "outputs": [
    {
     "data": {
      "image/png": "[encoded data removed]",
      "text/plain": [
       "<Figure size 720x720 with 1 Axes>"
      ]
     },
     "metadata": {
      "needs_background": "light"
     },
     "output_type": "display_data"
    },
    {
     "data": {
      "image/png": "[encoded data removed]",
      "text/plain": [
       "<Figure size 720x720 with 1 Axes>"
      ]
     },
     "metadata": {
      "needs_background": "light"
     },
     "output_type": "display_data"
    }
   ],
   "source": [
    "numerical = ['destination','source']\n",
    "\n",
    "attackids = [1,2,3,4,5]\n",
    "\n",
    "label_cols = ['source', 'destination']\n",
    "\n",
    "# Label Encoding\n",
    "from sklearn.preprocessing import LabelEncoder\n",
    "\n",
    "for col in label_cols:\n",
    "    if col in train.columns:\n",
    "        le = LabelEncoder()\n",
    "        le.fit(list(train[col].astype(str).values))\n",
    "        train[col] = le.transform(list(train[col].astype(str).values))\n",
    "\n",
    "for feature in numerical:\n",
    "\tfig, ax = plt.subplots(figsize=(10,10))\n",
    "\tplt.title(feature)\n",
    "\t\n",
    "\tfor i in attackids:\n",
    "\t\tax = sns.distplot(train[train['attackid']==i][feature],label='target=' + str(i),kde=False)\n",
    "\n",
    "\tif feature == 'destination':\n",
    "\t\tplt.title('Frequency of destination ip address')\n",
    "\t\tplt.xlabel(\"Destination ip address (encoded as numerical variable)\")\n",
    "\t\tplt.ylabel(\"Frequency\")\n",
    "# \t\tplt.ylim(0,5000)\n",
    "\telse:\n",
    "\t\tplt.title('Frequency of source ip address')\n",
    "\t\tplt.xlabel(\"Source ip address (encoded as numerical variable)\")\n",
    "\t\tplt.ylabel(\"Frequency\")\n",
    "\t\tplt.ylim(0,18000)\n",
    "\n",
    "\tplt.legend() # Plot label in the graph\n",
    "\tplt.savefig('./figure/'+ str(feature) + '.png')\n",
    "\tplt.show()"
   ]
  },
  {
   "cell_type": "markdown",
   "metadata": {},
   "source": [
    "結果: いくつかの攻撃手法では使うパケット数に確かなトレンドがある。例えば攻撃手法２と５は多くのパケットを使っている."
   ]
  },
  {
   "cell_type": "markdown",
   "metadata": {},
   "source": [
    "## Eメール ##"
   ]
  },
  {
   "cell_type": "markdown",
   "metadata": {},
   "source": [
    "ドメイン知識: ドメイン偽装のような自身のドメインを他のサイトのドメインに成りすますような手法がある。 <br>\n",
    " <br>\n",
    "仮説:  攻撃手法はEメールのドメインに左右される。"
   ]
  },
  {
   "cell_type": "code",
   "execution_count": 23,
   "metadata": {},
   "outputs": [
    {
     "name": "stdout",
     "output_type": "stream",
     "text": [
      "        info_4  info_1\n",
      "0  0798.com.cn       2\n",
      "1   0f3.com.cn       1\n",
      "2  10d5.com.cn       2\n",
      "3  1988.com.cn       2\n",
      "4  1c8c.com.cn       1\n"
     ]
    }
   ],
   "source": [
    "temp = sub['info'].str.split(expand=True)\n",
    "temp.columns = ['info_' + str(i) for i in temp.columns.values]\n",
    "\n",
    "temp = temp[:1000]\n",
    "\n",
    "with pd.option_context('display.max_rows', None, 'display.max_columns', None):\n",
    "#     I just display first 5 rows of data for submission\n",
    "    print(temp.groupby('info_4',as_index=False)['info_1'].count().head(5))\n"
   ]
  },
  {
   "cell_type": "markdown",
   "metadata": {},
   "source": [
    "結果: 偽。\".co0m.cn.\"のドメインしかなく、メール自体もあまり意味を成さない作られたものが多い。\n",
    "\n",
    "（このノートでは最初の５行しか出力していない）"
   ]
  },
  {
   "cell_type": "markdown",
   "metadata": {},
   "source": [
    "# モデル #"
   ]
  },
  {
   "cell_type": "markdown",
   "metadata": {},
   "source": [
    "## LightGBM ##"
   ]
  },
  {
   "cell_type": "markdown",
   "metadata": {},
   "source": [
    "交差検証にはStratified K-foldを使う\n",
    "\n",
    "IPアドレスは種類が多すぎるためOne hotではなく数値にエンコードする。"
   ]
  },
  {
   "cell_type": "code",
   "execution_count": 24,
   "metadata": {
    "scrolled": true
   },
   "outputs": [
    {
     "name": "stdout",
     "output_type": "stream",
     "text": [
      "train_X:  (77803, 5)\n",
      "train_y:  (77803,)\n",
      "\n",
      " fold 0\n",
      "train_idx:  62241\n",
      "val_idx:  15562\n",
      "\n",
      " ip address Overlap 65.72677174209926 % \n",
      "\n",
      "Training until validation scores don't improve for 500 rounds.\n",
      "Early stopping, best iteration is:\n",
      "[180]\ttraining's multi_logloss: 2.79093e-08\tvalid_1's multi_logloss: 3.49986e-08\n",
      "\n",
      " fold 1\n",
      "train_idx:  62241\n",
      "val_idx:  15562\n",
      "\n",
      " ip address Overlap 91.78355103549107 % \n",
      "\n",
      "Training until validation scores don't improve for 500 rounds.\n",
      "Early stopping, best iteration is:\n",
      "[249]\ttraining's multi_logloss: 2.91695e-08\tvalid_1's multi_logloss: 2.9278e-08\n",
      "\n",
      " fold 2\n",
      "train_idx:  62243\n",
      "val_idx:  15560\n",
      "\n",
      " ip address Overlap 91.78381504747522 % \n",
      "\n",
      "Training until validation scores don't improve for 500 rounds.\n",
      "[1000]\ttraining's multi_logloss: 2.52175e-08\tvalid_1's multi_logloss: 0.00453654\n",
      "[2000]\ttraining's multi_logloss: 2.51585e-08\tvalid_1's multi_logloss: 0.00453654\n",
      "[3000]\ttraining's multi_logloss: 2.51292e-08\tvalid_1's multi_logloss: 0.00453654\n",
      "[4000]\ttraining's multi_logloss: 2.51118e-08\tvalid_1's multi_logloss: 0.00453654\n",
      "[5000]\ttraining's multi_logloss: 2.51002e-08\tvalid_1's multi_logloss: 0.00453654\n",
      "Did not meet early stopping. Best iteration is:\n",
      "[5000]\ttraining's multi_logloss: 2.51002e-08\tvalid_1's multi_logloss: 0.00453654\n",
      "\n",
      " fold 3\n",
      "train_idx:  62243\n",
      "val_idx:  15560\n",
      "\n",
      " ip address Overlap 98.45123146377905 % \n",
      "\n",
      "Training until validation scores don't improve for 500 rounds.\n",
      "[1000]\ttraining's multi_logloss: 2.55475e-08\tvalid_1's multi_logloss: 2.36232e-08\n",
      "Early stopping, best iteration is:\n",
      "[1053]\ttraining's multi_logloss: 2.55475e-08\tvalid_1's multi_logloss: 2.36232e-08\n",
      "\n",
      " fold 4\n",
      "train_idx:  62244\n",
      "val_idx:  15559\n",
      "\n",
      " ip address Overlap 80.93310198573357 % \n",
      "\n",
      "Training until validation scores don't improve for 500 rounds.\n",
      "[1000]\ttraining's multi_logloss: 2.58998e-08\tvalid_1's multi_logloss: 2.33835e-08\n",
      "[2000]\ttraining's multi_logloss: 2.55124e-08\tvalid_1's multi_logloss: 2.2377e-08\n",
      "[3000]\ttraining's multi_logloss: 2.54169e-08\tvalid_1's multi_logloss: 2.2151e-08\n",
      "[4000]\ttraining's multi_logloss: 2.53747e-08\tvalid_1's multi_logloss: 2.20547e-08\n",
      "[5000]\ttraining's multi_logloss: 2.53507e-08\tvalid_1's multi_logloss: 2.20106e-08\n",
      "Did not meet early stopping. Best iteration is:\n",
      "[5000]\ttraining's multi_logloss: 2.53507e-08\tvalid_1's multi_logloss: 2.20106e-08\n",
      "Mean log loss =  0.0009073293845512951\n",
      "\n",
      "Mean accuracy score = 0.999974294050358\n",
      "[5]\n",
      "['source' 'destination' 'length' 'count_source' 'count_destination']\n"
     ]
    },
    {
     "data": {
      "image/png": "[encoded data removed]",
      "text/plain": [
       "<Figure size 432x720 with 1 Axes>"
      ]
     },
     "metadata": {
      "needs_background": "light"
     },
     "output_type": "display_data"
    }
   ],
   "source": [
    "import lightgbm as lgb\n",
    "from scipy import stats\n",
    "from tqdm import tqdm_notebook\n",
    "from sklearn.model_selection import StratifiedKFold\n",
    "from statistics import mean\n",
    "from sklearn.preprocessing import LabelEncoder, OneHotEncoder\n",
    "\n",
    "from sklearn.metrics import accuracy_score, recall_score, precision_score, f1_score\n",
    "\n",
    "# Fix seeds\n",
    "from numpy.random import seed\n",
    "seed(0)\n",
    "\n",
    "np.set_printoptions(suppress=True)\n",
    "\n",
    "\n",
    "# Load data\n",
    "q1 = feather.read_dataframe('./total_q1.feather')\n",
    "\n",
    "q1.rename(columns={'No.':'id','Time':'time','Source':'source','Destination':'destination',\n",
    "                   'Protocol':'protocol','Length':'length','Info':'info'},inplace=True)\n",
    "\n",
    "q1 = q1[~q1['info'].str.contains('response')]\n",
    "\n",
    "\n",
    "train = q1[~q1['attackid'].isnull()]\n",
    "test = q1[q1['attackid'].isnull()]\n",
    "\n",
    "\n",
    "# Count encoding\n",
    "count_features = ['source','destination']\n",
    "\n",
    "for feature in count_features:\n",
    "\ttrain['count_' + feature] = train[feature].map(pd.concat([train[feature], test[feature]], ignore_index=True).value_counts(dropna=False))\n",
    "\ttest['count_' + feature] = test[feature].map(pd.concat([train[feature], test[feature]], ignore_index=True).value_counts(dropna=False))\n",
    "\n",
    "\n",
    "train.drop(['time','info','protocol'],axis=1,inplace=True)\n",
    "test.drop(['time','info','protocol'],axis=1,inplace=True)\n",
    "\n",
    "\n",
    "label_cols = ['source', 'destination']\n",
    "\n",
    "# Label Encoding\n",
    "from sklearn.preprocessing import LabelEncoder\n",
    "\n",
    "for col in label_cols:\n",
    "    if col in train.columns:\n",
    "        le = LabelEncoder()\n",
    "        le.fit(list(train[col].astype(str).values) + list(test[col].astype(str).values))\n",
    "        train[col] = le.transform(list(train[col].astype(str).values))\n",
    "        test[col] = le.transform(list(test[col].astype(str).values))\n",
    "\n",
    "        \n",
    "train_y = train['attackid']\n",
    "train_X = train.drop(['attackid','packetid','id'], axis=1)\n",
    "\n",
    "test_packetid = test['id']\n",
    "\n",
    "test_X = test.drop(['attackid','packetid','id'], axis=1)\n",
    "\n",
    "metric = 'multi_logloss'\n",
    "\n",
    "params = {\n",
    "\t\t  'objective': 'multiclass',\n",
    "\t\t  \"metric\": metric,\n",
    "\t\t }\n",
    "\n",
    "\n",
    "folds = StratifiedKFold(n_splits=5)\n",
    "\n",
    "# Out of fold predictions\n",
    "oof = np.zeros(shape=(len(train_X),5))\n",
    "\n",
    "# Predictions for test data\n",
    "predictions = np.zeros(shape=(len(test_X),5))\n",
    "feature_importance_df = pd.DataFrame()\n",
    "\n",
    "print('train_X: ',train_X.shape)\n",
    "print('train_y: ',train_y.shape)\n",
    "\n",
    "loss = list()\n",
    "\n",
    "#run model\n",
    "for fold_, (trn_idx, val_idx) in enumerate(folds.split(train_X,train_y)):\n",
    "\tstrLog = \"\\n fold {}\".format(fold_)\n",
    "\tprint(strLog)\n",
    "\n",
    "# \tOutput the size of train and validation index\n",
    "\tprint('train_idx: ',len(trn_idx))\n",
    "\tprint('val_idx: ',len(val_idx))\n",
    "\n",
    "\tX_tr, X_val = train_X.iloc[trn_idx], train_X.iloc[val_idx]\n",
    "\ty_tr, y_val = train_y.iloc[trn_idx], train_y.iloc[val_idx]\n",
    "\n",
    "\n",
    "\t# Check the percentage of ip address overlaps between training data and validation data\n",
    "\tnum = X_tr[X_tr['destination'].isin(X_val['destination'].values) | X_tr['source'].isin(X_val['source'].values)].shape[0]\n",
    "\tprint(\"\\n ip address Overlap\",num/X_tr.shape[0]*100,'% \\n')\n",
    "    \n",
    "\tmodel = lgb.LGBMClassifier(**params, n_estimators=5000, importance_type='gain', n_jobs=-1)\n",
    "\n",
    "\tmodel.fit(X_tr,\n",
    "\t\t\t  y_tr,\n",
    "\t\t\t  eval_set=[(X_tr,y_tr),(X_val, y_val)],\n",
    "\t\t\t  verbose=1000,\n",
    "\t\t\t  early_stopping_rounds=500)\n",
    "\n",
    "\t# Out of fold predictions\n",
    "\toof[val_idx] = model.predict_proba(X_val, num_iteration=model.best_iteration_)\n",
    "\n",
    "\t# Test prediction\n",
    "\tpredictions += (model.predict_proba(test_X, num_iteration=model.best_iteration_)) / folds.n_splits\n",
    "\n",
    "\tloss.append(model.best_score_['valid_1'][metric])\n",
    "\n",
    "\t#Feature importance\n",
    "\tfold_importance_df = pd.DataFrame()\n",
    "\tfold_importance_df[\"Feature\"] = train_X.columns.values\n",
    "\tfold_importance_df[\"importance\"] = model.feature_importances_[:len(train_X.columns.values)]\n",
    "\tfold_importance_df[\"fold\"] = fold_ + 1\n",
    "\tfeature_importance_df = pd.concat([feature_importance_df, fold_importance_df], axis=0)\n",
    "\n",
    "print('Mean log loss = ',mean(loss))\n",
    "\n",
    "oof = (np.argmax(oof,axis=1)+1).astype(int)\n",
    "\n",
    "print()\n",
    "print('Mean accuracy score = {}'.format(accuracy_score(train_y.values, oof)))\n",
    "\n",
    "\n",
    "print('[' + str(len(train_X.columns.values))+']')\n",
    "print(train_X.columns.values)\n",
    "\n",
    "cols = (feature_importance_df[[\"Feature\", \"importance\"]]\n",
    "        .groupby(\"Feature\")\n",
    "        .mean()\n",
    "        .sort_values(by=\"importance\", ascending=False).index)\n",
    "best_features = feature_importance_df.loc[feature_importance_df.Feature.isin(cols)]\n",
    "\n",
    "plt.figure(figsize=(6,10))\n",
    "sns.barplot(x=\"importance\", y=\"Feature\", data=best_features.sort_values(by=\"importance\",ascending=False))\n",
    "plt.title('Features importance (averaged/folds) ')\n",
    "plt.tight_layout()\n",
    "\n",
    "plt.savefig('./figure/importance.png')\n",
    "plt.show()\n",
    "\n",
    "\n",
    "# Make submission file\n",
    "test_X['attackid'] = (np.argmax(predictions,axis=1)+1).astype(int)\n",
    "test_X['packetid'] = test_packetid\n",
    "\n",
    "test_X[['packetid','attackid']].to_csv('./traffic.csv',header=True,index=False)\n",
    "\n"
   ]
  },
  {
   "cell_type": "markdown",
   "metadata": {},
   "source": [
    "結果：訓練データにIPアドレスが含まれていなくとも高い精度を発揮できるモデルを生成出来た。"
   ]
  }
 ],
 "metadata": {
  "kernelspec": {
   "display_name": "Python 3",
   "language": "python",
   "name": "python3"
  },
  "language_info": {
   "codemirror_mode": {
    "name": "ipython",
    "version": 3
   },
   "file_extension": ".py",
   "mimetype": "text/x-python",
   "name": "python",
   "nbconvert_exporter": "python",
   "pygments_lexer": "ipython3",
   "version": "3.7.0"
  }
 },
 "nbformat": 4,
 "nbformat_minor": 2
}
